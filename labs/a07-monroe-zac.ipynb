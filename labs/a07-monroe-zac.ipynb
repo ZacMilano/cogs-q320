{
 "cells": [
  {
   "cell_type": "markdown",
   "metadata": {},
   "source": [
    "## A07: Evolutionary Algorithm"
   ]
  },
  {
   "cell_type": "code",
   "execution_count": 2,
   "metadata": {},
   "outputs": [],
   "source": [
    "import numpy as np\n",
    "import matplotlib.pyplot as plt"
   ]
  },
  {
   "cell_type": "markdown",
   "metadata": {},
   "source": [
    "This is the evolutionary algorithm class developed on the lectures. This algorithm works for real-valued problems. Feel free to use it, extend it, modify it, or create your own."
   ]
  },
  {
   "cell_type": "code",
   "execution_count": 3,
   "metadata": {},
   "outputs": [],
   "source": [
    "class MicrobialGA():\n",
    "    \n",
    "    def __init__(self, fitnessFunction, popsize, genesize, recombProb, mutatStd):\n",
    "        self.fitnessFunction = fitnessFunction\n",
    "        self.popsize = popsize\n",
    "        self.genesize = genesize\n",
    "        self.recombProb = recombProb\n",
    "        self.mutatStd = mutatStd \n",
    "        self.pop = np.random.rand(popsize,genesize)*2 - 1\n",
    "        \n",
    "    def best(self):\n",
    "        bestfit = 0\n",
    "        for i in range(self.popsize):\n",
    "            fit = self.fitnessFunction(self.pop[i])\n",
    "            if fit > bestfit:\n",
    "                bestfit = fit\n",
    "        return bestfit\n",
    "                    \n",
    "    def runTournament(self):\n",
    "\n",
    "        # Step 1: Pick 2 individuals at random from the population\n",
    "        a = np.random.randint(self.popsize)\n",
    "        b = np.random.randint(self.popsize)\n",
    "        while (a==b):   # Make sure they are two different individuals\n",
    "            b = np.random.randint(self.popsize)\n",
    "\n",
    "        # Step 2: Compare their fitness\n",
    "        if (self.fitnessFunction(self.pop[a]) > self.fitnessFunction(self.pop[b])):\n",
    "            winner = a\n",
    "            loser = b\n",
    "        else:\n",
    "            winner = b\n",
    "            loser = a\n",
    "\n",
    "        # Step 3: Transfect loser with winner\n",
    "        for gene in range(self.genesize):\n",
    "            if (np.random.random() < self.recombProb):\n",
    "                self.pop[loser][gene] = self.pop[winner][gene]\n",
    "\n",
    "        # Step 4: Mutate loser and Make sure new organism stays within bounds\n",
    "        self.pop[loser] += np.random.normal(0.0,self.mutatStd,size=self.genesize)\n",
    "        self.pop[loser] = np.clip(self.pop[loser],-1,1)"
   ]
  },
  {
   "cell_type": "markdown",
   "metadata": {},
   "source": [
    "This code exemplifies how to use the class by getting it to solve a very trivial problem: the maximization of ones in a genotype of 10 values. Note we have to create our own fitness function that solves the problem at hand. Note that this fitness function maximizes the number of ones in a genotype because each gene can only take a value between -1 and 1.\n",
    "We use a population size of 50 individuals. We will pick a recombination probability of 50% and a mutation standard deviation of 0.1. We run the algorithm for 100 generations, where each generation entails running as many tournaments as there are individuals in the population. To make sure that the optimization is working, we visualize the best fitness in the population over time."
   ]
  },
  {
   "cell_type": "code",
   "execution_count": 4,
   "metadata": {},
   "outputs": [
    {
     "data": {
      "image/png": "[encoded data removed]",
      "text/plain": [
       "<Figure size 432x288 with 1 Axes>"
      ]
     },
     "metadata": {
      "needs_background": "light"
     },
     "output_type": "display_data"
    }
   ],
   "source": [
    "genesize = 10\n",
    "popsize = 50\n",
    "recombProb = 0.5\n",
    "mutatProb = 0.1\n",
    "generations = 100\n",
    "\n",
    "def fitnessFunction(genotype):\n",
    "    return np.sum(genotype)\n",
    "\n",
    "ga = MicrobialGA(fitnessFunction, popsize, genesize, recombProb, mutatProb)\n",
    "\n",
    "bestfithist = np.zeros(generations)\n",
    "\n",
    "for i in range(generations):\n",
    "    for j in range(popsize):\n",
    "        ga.runTournament()\n",
    "    bestfithist[i] = ga.best()\n",
    "\n",
    "plt.plot(bestfithist)\n",
    "plt.ylabel(\"Best fitness\")\n",
    "plt.xlabel(\"Generation\")\n",
    "plt.show()"
   ]
  },
  {
   "cell_type": "markdown",
   "metadata": {},
   "source": [
    "1. (6 points) Write some code to find the solution to the Ackley Function (https://en.wikipedia.org/wiki/Ackley_function). Note that the function is a minimization problem. Meaning solutions with lower value are better than solutions with larger values. Note also that the Ackley function receives two parameters and gives you a value. The two parameters that the function takes (x and y) will be the genotype. The result of the function will be the fitness. We know the solution should be f(0,0)=0. So your evolutionary algorithm should find a genotype that approximates the genotype 0,0."
   ]
  },
  {
   "cell_type": "code",
   "execution_count": 39,
   "metadata": {},
   "outputs": [
    {
     "data": {
      "image/png": "[encoded data removed]",
      "text/plain": [
       "<Figure size 432x288 with 1 Axes>"
      ]
     },
     "metadata": {
      "needs_background": "light"
     },
     "output_type": "display_data"
    }
   ],
   "source": [
    "genesize = 2\n",
    "popsize = 100\n",
    "recombProb = 0.8\n",
    "mutatProb = 0.2\n",
    "generations = 100\n",
    "\n",
    "# The maximum value this function can have is 1/epsilon. This is the way we turn\n",
    "# a local minimum into a local maximum.\n",
    "def ackley(genotype, epsilon=0.1):\n",
    "    x, y = genotype\n",
    "    firstTerm = -20*np.exp(-0.2 * np.sqrt(0.5*(x**2 + y**2)))\n",
    "    rest = -np.exp(0.5*(np.cos(2*np.pi*x) + np.cos(2*np.pi*y))) + np.e + 20\n",
    "    return 1/(epsilon + firstTerm + rest)\n",
    "\n",
    "ga = MicrobialGA(ackley, popsize, genesize, recombProb, mutatProb)\n",
    "\n",
    "bestfithist = np.zeros(generations)\n",
    "\n",
    "for i in range(generations):\n",
    "    for j in range(popsize):\n",
    "        ga.runTournament()\n",
    "    bestfithist[i] = ga.best()\n",
    "\n",
    "plt.plot(bestfithist)\n",
    "plt.title(\"Ackley Optimization\")\n",
    "plt.ylabel(\"Best fitness\")\n",
    "plt.xlabel(\"Generation\")\n",
    "plt.grid()\n",
    "plt.show()"
   ]
  },
  {
   "cell_type": "markdown",
   "metadata": {},
   "source": [
    "2. (6 points) Write some code to find the solution to the Card Problem. You have 10 cards numbered from 1 to 10. You have to choose a way of dividing them into 2 piles, so that the cards in first pile sum to a number as close as possible to 36, and the remaining cards in the second pile multiply to a number as close as possible to 360. Note that you have to figure out what the best genotype encoding is for this problem. Also, importantly, note that the algorithm provided works best for real-valued genotypes. The genotype for this problem will most likely need to be a discrete genotype (0s and 1s) or something similar. You might have to copy and paste the evolutionary algorithm class and make some changes to it to accomodate this change from real values to discrete values. Hint: The main thing that changes is the initialization of the population and the mutation operation. Instead of adding random values to every real-value, you might want to flip some 0s to 1s and some 1s to 0s here and there at random. In addition to solving the problem, tell us: how did you encode the solutions in the genotype? and what fitness function did you use? Did the evolutionary algorithm find the correct optimal answer? What was the answer to the problem? "
   ]
  },
  {
   "cell_type": "code",
   "execution_count": 41,
   "metadata": {},
   "outputs": [],
   "source": [
    "class DiscreteGA():\n",
    "    \n",
    "    def __init__(self, fitnessFunction, popsize, genesize, recombProb, mutateProb):\n",
    "        self.fitnessFunction = fitnessFunction\n",
    "        self.popsize = popsize\n",
    "        self.genesize = genesize\n",
    "        self.recombProb = recombProb\n",
    "        self.mutateProb = mutateProb\n",
    "        # From numpy docs (adapted for variable names used her):\n",
    "        #   If gensize is an int, the random sample is generated as if\n",
    "        #   genesize were np.arange(genesize)\n",
    "        # So we assume possible gene values are 0, ... , genesize-1\n",
    "        self.pop = np.random.choice(genesize, size=(popsize,genesize))\n",
    "        \n",
    "    def best(self):\n",
    "        bestfit = 0\n",
    "        for i in range(self.popsize):\n",
    "            fit = self.fitnessFunction(self.pop[i])\n",
    "            if fit > bestfit:\n",
    "                bestfit = fit\n",
    "        return bestfit\n",
    "                    \n",
    "    def runTournament(self):\n",
    "\n",
    "        # Step 1: Pick 2 individuals at random from the population\n",
    "        a = np.random.randint(self.popsize)\n",
    "        b = np.random.randint(self.popsize)\n",
    "        while (a==b):   # Make sure they are two different individuals\n",
    "            b = np.random.randint(self.popsize)\n",
    "\n",
    "        # Step 2: Compare their fitness\n",
    "        if (self.fitnessFunction(self.pop[a]) > self.fitnessFunction(self.pop[b])):\n",
    "            winner = a\n",
    "            loser = b\n",
    "        else:\n",
    "            winner = b\n",
    "            loser = a\n",
    "\n",
    "        # Step 3: Transfect loser with winner\n",
    "        for gene in range(self.genesize):\n",
    "            if (np.random.random() < self.recombProb):\n",
    "                self.pop[loser][gene] = self.pop[winner][gene]\n",
    "\n",
    "        # Step 4: Mutate loser\n",
    "        for i in range(self.genesize):\n",
    "            if np.random.random() < self.mutateProb:\n",
    "                # Select a new value for the gene, different from current one.\n",
    "                # This assumes that the discrete values are not properly ordered\n",
    "                # or have no ordering, and are qualitative values (like in the\n",
    "                # card problem). This could be changed to adding/subtracting 1\n",
    "                # if the values a gene can take are well-ordered.\n",
    "                self.pop[loser][i] = np.random.choice(\n",
    "                    [j for j in range(self.genesize) if j != self.pop[loser][i]],\n",
    "                    size=1\n",
    "                )[0] # Gives an array of one element\n",
    "            \n",
    "        # self.pop[loser] += np.random.normal(0.0,self.mutateProb,size=self.genesize)\n",
    "        # self.pop[loser] = np.clip(self.pop[loser],-1,1)"
   ]
  },
  {
   "cell_type": "code",
   "execution_count": 81,
   "metadata": {},
   "outputs": [
    {
     "data": {
      "image/png": "[encoded data removed]",
      "text/plain": [
       "<Figure size 432x288 with 1 Axes>"
      ]
     },
     "metadata": {
      "needs_background": "light"
     },
     "output_type": "display_data"
    }
   ],
   "source": [
    "genesize = 10\n",
    "popsize = 100\n",
    "recombProb = 0.5\n",
    "mutatProb = 0.2\n",
    "generations = 100\n",
    "\n",
    "def cardProblem(genotype, epsilon=0.1):\n",
    "    # Identity values\n",
    "    sumPile = 0\n",
    "    prodPile = 1\n",
    "    for i, card in enumerate(genotype):\n",
    "        if card == 0:\n",
    "            sumPile += i+1\n",
    "        elif card == 1:\n",
    "            prodPile *= i+1\n",
    "    # Want to use a concave function with a clear max at our optimal value.\n",
    "    # I made the solution LESS obvious to the algorithm (because the graph was\n",
    "    # too steep to get to the solution) by scaling the difference between the\n",
    "    # goal, np.abs(pile-36), down by 1/36.\n",
    "    sumFitness = 1/(epsilon + np.abs(sumPile - 36)/36)\n",
    "    prodFitness = 1/(epsilon + np.abs(prodPile - 36)/36)\n",
    "    \n",
    "    return (sumFitness + prodFitness)/2\n",
    "\n",
    "ga = DiscreteGA(cardProblem, popsize, genesize, recombProb, mutatProb)\n",
    "\n",
    "bestfithist = np.zeros(generations)\n",
    "\n",
    "for i in range(generations):\n",
    "    for j in range(popsize):\n",
    "        ga.runTournament()\n",
    "    bestfithist[i] = ga.best()\n",
    "\n",
    "plt.plot(bestfithist)\n",
    "plt.ylabel(\"Best fitness\")\n",
    "plt.xlabel(\"Generation\")\n",
    "plt.grid()\n",
    "plt.title(\"Card Problem\")\n",
    "plt.show()"
   ]
  },
  {
   "cell_type": "markdown",
   "metadata": {},
   "source": [
    "3. (9 points) Open-ended problem. The main two parameters of an evolutionary algorithm are its mutation operator and its recombination operator. Pick one (or if you are ambitious you can do the study for both) and understand the effect that the parameter has on the efficiency of the evolutionary algorithm. So, for example, the question that we are asking is: For the Ackley function, does a large mutation or a small mutation work best to find the solution quickest? Is there a sweetspot? Does a little recombination, medium, or lots of recombination work best? Does recombination help at all? What happens if we set it to 0? Or to 1.0? Is there a sweetspot? I used the Ackley function as an example, but you are welcome to explore any other problem (there are lots of functions here: https://en.wikipedia.org/wiki/Test_functions_for_optimization). Find a way to visualize the results of your experiments and to interpret your results. "
   ]
  },
  {
   "cell_type": "code",
   "execution_count": null,
   "metadata": {},
   "outputs": [],
   "source": []
  }
 ],
 "metadata": {
  "kernelspec": {
   "display_name": "Python 3",
   "language": "python",
   "name": "python3"
  },
  "language_info": {
   "codemirror_mode": {
    "name": "ipython",
    "version": 3
   },
   "file_extension": ".py",
   "mimetype": "text/x-python",
   "name": "python",
   "nbconvert_exporter": "python",
   "pygments_lexer": "ipython3",
   "version": "3.9.1"
  }
 },
 "nbformat": 4,
 "nbformat_minor": 4
}
