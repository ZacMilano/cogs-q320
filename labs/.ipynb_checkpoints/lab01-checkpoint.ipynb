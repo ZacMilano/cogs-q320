{
 "cells": [
  {
   "cell_type": "markdown",
   "id": "satisfied-forge",
   "metadata": {},
   "source": [
    "# (1) Conditionals and Functions.\n",
    "\n",
    "If you are given three sticks, you may or may not be able to arrange them in a triangle. For example, if one of the sticks is 12 inches long and the other two are one inch long, you will not be able to get the short sticks to meet in the middle.\n",
    "\n",
    "For any three lengths, there is a simple test to see if it is possible to form a triangle: If any of the three lengths is greater than the sum of the other two, then you cannot form a triangle. Otherwise, you can. (If the sum of two lengths equals the third, they form what is called a “degenerate” triangle.)\n",
    "\n",
    "Write a function named is_triangle that takes three integers as arguments, and that returns a 0 if you cannot form a triangle and 1 if you can form a triangle from sticks with the given lengths."
   ]
  },
  {
   "cell_type": "code",
   "execution_count": null,
   "id": "metropolitan-sodium",
   "metadata": {},
   "outputs": [],
   "source": [
    "def triangleable(a, b, c):\n",
    "    longest = max(a,b,c)\n",
    "    sum_lengths = a + b + c\n",
    "    other_two_sides = sum_lengths - longest\n",
    "    \n",
    "    if other_two_sides < longest:\n",
    "        return 0\n",
    "    return 1"
   ]
  },
  {
   "cell_type": "markdown",
   "id": "expanded-judge",
   "metadata": {},
   "source": [
    "# (2) Conditionals, Functions, and Iterations.\n",
    "\n",
    "Write a function named special_numbers() that takes four integers as arguments and that returns those numbers which are divisible by D and multiple of M, between F and T (both included).\n",
    "\n",
    "For example, if D is 7 (D for divisible), M is 5 (M for multiple), and F is 1500 (F for From) and T is 2700 (T for To), then the solution should be: 1505, 1540, 1575, 1610, 1645, 1680, 1715, 1750, 1785, 1820, 1855, 1890, 1925, 1960, 1995, 2030, 2065, 2100, 2135, 2170, 2205, 2240, 2275, 2310, 2345, 2380, 2415, 2450, 2485, 2520, 2555, 2590, 2625, 2660, 2695."
   ]
  },
  {
   "cell_type": "code",
   "execution_count": 1,
   "id": "electric-place",
   "metadata": {},
   "outputs": [],
   "source": [
    "def special_numbers(d, m, f, t):\n",
    "    for i in range(f, t+1):\n",
    "        if i % d == 0 and i % m == 0:\n",
    "            print(i)"
   ]
  },
  {
   "cell_type": "markdown",
   "id": "unexpected-portable",
   "metadata": {},
   "source": [
    "# (3) Lists, Iteration and Strings.\n",
    "\n",
    "Write a function called is_sorted() that takes a list of words as a parameter and returns True if the list is sorted in ascending alphabetical order and False otherwise.\n",
    "\n",
    "First, I'll demonstrate that strings can be compared numerically:"
   ]
  },
  {
   "cell_type": "code",
   "execution_count": 10,
   "id": "incoming-given",
   "metadata": {},
   "outputs": [
    {
     "name": "stdout",
     "output_type": "stream",
     "text": [
      "True\n",
      "True\n"
     ]
    }
   ],
   "source": [
    "print(\"adfsdf\" < \"dbsd\")\n",
    "print(\"\" >= \"\")"
   ]
  },
  {
   "cell_type": "markdown",
   "id": "fitting-baseball",
   "metadata": {},
   "source": [
    "Now, I'll do this problem as if the list were a list of numbers!"
   ]
  },
  {
   "cell_type": "code",
   "execution_count": 13,
   "id": "timely-acceptance",
   "metadata": {},
   "outputs": [
    {
     "name": "stdout",
     "output_type": "stream",
     "text": [
      "True\n",
      "False\n",
      "True\n",
      "True\n",
      "True\n",
      "False\n",
      "True\n"
     ]
    }
   ],
   "source": [
    "def is_sorted(words):\n",
    "    for i in range(len(words) - 1):\n",
    "        if words[i] > words[i+1]:\n",
    "            return False\n",
    "    return True\n",
    "\n",
    "print(is_sorted([\"a\",\"b\",\"c\",\"d\",\"e\",]))\n",
    "print(is_sorted([\"b\",\"a\",\"c\",\"d\",\"e\",]))\n",
    "print(is_sorted([]))\n",
    "print(is_sorted([\"a\",]))\n",
    "print(is_sorted([\"aardvark\",\"chimpanzee\",\"zebra\",]))\n",
    "print(is_sorted([\"aardvark\",\"aaardvark\",\"ardvark\",]))\n",
    "print(is_sorted([\"a\",\"aa\",\"aaa\",]))"
   ]
  }
 ],
 "metadata": {
  "kernelspec": {
   "display_name": "Python 3",
   "language": "python",
   "name": "python3"
  },
  "language_info": {
   "codemirror_mode": {
    "name": "ipython",
    "version": 3
   },
   "file_extension": ".py",
   "mimetype": "text/x-python",
   "name": "python",
   "nbconvert_exporter": "python",
   "pygments_lexer": "ipython3",
   "version": "3.8.5"
  }
 },
 "nbformat": 4,
 "nbformat_minor": 5
}
