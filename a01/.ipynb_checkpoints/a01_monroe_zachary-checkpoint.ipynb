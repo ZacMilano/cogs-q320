{
 "cells": [
  {
   "cell_type": "markdown",
   "metadata": {},
   "source": [
    "# Assignment 1: Python Basics\n",
    "### Zac Monroe"
   ]
  },
  {
   "cell_type": "code",
   "execution_count": 33,
   "metadata": {},
   "outputs": [],
   "source": [
    "# Basic testing suite classes, because why not?\n",
    "class FailedTestException(Exception):\n",
    "    def __init__(self, *args, **kwargs):\n",
    "        super.__init__(*args, **kwargs)\n",
    "\n",
    "class TestSuite:\n",
    "    def __init__(self):\n",
    "        self.reset()\n",
    "        \n",
    "    def reset(self):\n",
    "        self.passed_count = 0\n",
    "        self.failed_count = 0\n",
    "        self.run_count = 0\n",
    "        \n",
    "    def assert_equals(self, val1, val2):\n",
    "        self.run_count += 1\n",
    "        if val1 != val2:\n",
    "            print(f\"Test failed: Value {repr(val1)} not equal to value {repr(val2)}\")\n",
    "            self.failed_count += 1\n",
    "        else:\n",
    "            self.passed_count += 1\n",
    "    \n",
    "    def assert_within(self, val1, val2, tolerance=1e-5):\n",
    "        self.run_count += 1\n",
    "        if abs(val2 - val1) > tolerance:\n",
    "            print(f\"Test failed: Value {repr(val1)} not within {tolerance} of {repr(val2)}\")\n",
    "            self.failed_count += 1\n",
    "        else:\n",
    "            self.passed_count += 1\n",
    "            \n",
    "    def report(self):\n",
    "        print(f\"{self.passed_count} tests passed, {self.failed_count} tests failed\")\n",
    "        print(f\"{self.run_count} tests run in total since last report\")\n",
    "        self.reset()\n",
    "        \n",
    "t = TestSuite()"
   ]
  },
  {
   "cell_type": "markdown",
   "metadata": {},
   "source": [
    "## (1) Calculation"
   ]
  },
  {
   "cell_type": "code",
   "execution_count": 42,
   "metadata": {
    "scrolled": true
   },
   "outputs": [
    {
     "name": "stdout",
     "output_type": "stream",
     "text": [
      "12 tests passed, 0 tests failed\n",
      "12 tests run in total since last report\n"
     ]
    }
   ],
   "source": [
    "# +\n",
    "t.assert_equals(2 + 2, 4)\n",
    "# -\n",
    "t.assert_equals(50 - 21, 29)\n",
    "# *\n",
    "t.assert_equals(10 * 10, 100)\n",
    "t.assert_within(6 * 1.1, 6.6, 1e-6)\n",
    "# /\n",
    "t.assert_within(10 / 2, 5, 1e-6)\n",
    "t.assert_within(3 / 2, 1.5, 1e-6)\n",
    "# %\n",
    "t.assert_equals(11 % 2, 1)\n",
    "t.assert_equals(14 % 3, 2)\n",
    "# //\n",
    "t.assert_equals(10 // 2, 5)\n",
    "t.assert_equals(11 // 2, 5)\n",
    "# **\n",
    "t.assert_equals(8 ** 2, 64)\n",
    "t.assert_within(9 ** 0.5, 3, 1e-6)\n",
    "\n",
    "t.report()"
   ]
  },
  {
   "cell_type": "markdown",
   "metadata": {},
   "source": [
    "## (2) Variables"
   ]
  },
  {
   "cell_type": "code",
   "execution_count": 43,
   "metadata": {},
   "outputs": [],
   "source": [
    "file_count = 1234\n",
    "hashed_password = \"A4EDB18FFEE62197C29077CBA7DFDF7D\"\n",
    "that_is_actually_my_hashed_password = False\n",
    "latitude = 39.165325\n",
    "rubiks_cube_times = [13.77, 11.00, 9.17, 11.71, 13.57,]"
   ]
  },
  {
   "cell_type": "markdown",
   "metadata": {},
   "source": [
    "## (3) Indexing"
   ]
  },
  {
   "cell_type": "code",
   "execution_count": 46,
   "metadata": {},
   "outputs": [
    {
     "name": "stdout",
     "output_type": "stream",
     "text": [
      "4 tests passed, 0 tests failed\n",
      "4 tests run in total since last report\n"
     ]
    }
   ],
   "source": [
    "# Of course, we can only directly check these values' equality because we\n",
    "# made the original variables without any dynamic information\n",
    "t.assert_equals(hashed_password[0], \"A\")\n",
    "t.assert_equals(hashed_password[-1], \"D\")\n",
    "t.assert_equals(rubiks_cube_times[0], 13.77)\n",
    "t.assert_equals(rubiks_cube_times[-1], 13.57)\n",
    "\n",
    "t.report()"
   ]
  },
  {
   "cell_type": "markdown",
   "metadata": {},
   "source": [
    "## (4) Countdown"
   ]
  },
  {
   "cell_type": "code",
   "execution_count": 47,
   "metadata": {},
   "outputs": [
    {
     "name": "stdout",
     "output_type": "stream",
     "text": [
      "10\n",
      "9\n",
      "8\n",
      "7\n",
      "6\n",
      "5\n",
      "4\n",
      "3\n",
      "2\n",
      "1\n",
      "0\n"
     ]
    }
   ],
   "source": [
    "i = 10\n",
    "while i >= 0:\n",
    "    print(i)\n",
    "    i -= 1"
   ]
  },
  {
   "cell_type": "markdown",
   "metadata": {},
   "source": [
    "## (5) User Experience Masterclass"
   ]
  },
  {
   "cell_type": "code",
   "execution_count": 54,
   "metadata": {},
   "outputs": [
    {
     "name": "stdout",
     "output_type": "stream",
     "text": [
      "Give me an integer: -3241\n",
      "Your integer -3241 is negative and odd\n"
     ]
    }
   ],
   "source": [
    "def sign(m):\n",
    "    if m < 0:\n",
    "        return \"negative\"\n",
    "    elif m == 0:\n",
    "        return \"zero\"\n",
    "    elif m > 0:\n",
    "        return \"positive\"\n",
    "    else:\n",
    "        raise Exception(f\"Bad data: {m}\")\n",
    "\n",
    "def parity(m):\n",
    "    if m % 2 == 0:\n",
    "        return \"even\"\n",
    "    elif m % 2 == 1:\n",
    "        return \"odd\"\n",
    "    else:\n",
    "        raise Exception(f\"Bad data: {m}\")\n",
    "\n",
    "n = int(input(\"Give me an integer: \"))\n",
    "print(f\"Your integer {n} is {sign(n)} and {parity(n)}\")"
   ]
  },
  {
   "cell_type": "markdown",
   "metadata": {},
   "source": [
    "## (6) Word Length Competition"
   ]
  },
  {
   "cell_type": "code",
   "execution_count": 58,
   "metadata": {},
   "outputs": [
    {
     "name": "stdout",
     "output_type": "stream",
     "text": [
      "cognition\n",
      "computer\n",
      "python\n",
      "... wait, that's not a word!\n",
      "The longest word in the vocab is ... wait, that's not a word!\n"
     ]
    }
   ],
   "source": [
    "vocabulary = [\"cognition\", \"computer\", \"art\", \"math\", \"minty\", \"python\", \"... wait, that's not a word!\"]\n",
    "min_length = 5\n",
    "longest_word = \"\"\n",
    "for word in vocabulary:\n",
    "    length = len(word)\n",
    "    if length > min_length:\n",
    "        print(word)\n",
    "    if length > len(longest_word):\n",
    "        longest_word = word\n",
    "        \n",
    "print(f\"The longest word in the vocab is {longest_word}\")"
   ]
  },
  {
   "cell_type": "markdown",
   "metadata": {},
   "source": [
    "## (7) Modern Iterables"
   ]
  },
  {
   "cell_type": "code",
   "execution_count": 60,
   "metadata": {},
   "outputs": [
    {
     "name": "stdout",
     "output_type": "stream",
     "text": [
      "10\n",
      "9\n",
      "8\n",
      "7\n",
      "6\n",
      "5\n",
      "4\n",
      "3\n",
      "2\n",
      "1\n",
      "0\n"
     ]
    }
   ],
   "source": [
    "for i in range(10, 0-1, -1):\n",
    "    print(i)"
   ]
  },
  {
   "cell_type": "markdown",
   "metadata": {},
   "source": [
    "## (8) Countdown API"
   ]
  },
  {
   "cell_type": "code",
   "execution_count": 61,
   "metadata": {},
   "outputs": [
    {
     "name": "stdout",
     "output_type": "stream",
     "text": [
      "4\n",
      "3\n",
      "2\n",
      "1\n",
      "0\n"
     ]
    }
   ],
   "source": [
    "def countdown(n):\n",
    "    for i in range(n, 0-1, -1):\n",
    "        print(i)\n",
    "        \n",
    "countdown(4)"
   ]
  },
  {
   "cell_type": "markdown",
   "metadata": {},
   "source": [
    "## (9) AI-Powered Find Longest"
   ]
  },
  {
   "cell_type": "code",
   "execution_count": 64,
   "metadata": {},
   "outputs": [
    {
     "name": "stdout",
     "output_type": "stream",
     "text": [
      "3 tests passed, 0 tests failed\n",
      "3 tests run in total since last report\n"
     ]
    }
   ],
   "source": [
    "def find_longest(words):\n",
    "    longest = \"\"\n",
    "    for word in words:\n",
    "        # AI is if-statements\n",
    "        if len(word) > len(longest):\n",
    "            longest = word\n",
    "    return longest\n",
    "\n",
    "vocab_1 = [\"a\", \"aaaaa\", \"aa\", \"aaaa\", \"aaa\",]\n",
    "vocab_2 = [\"long\", \"short\",]\n",
    "vocab_3 = [\"findable\", \"unable to be found\", \"right here!\",]\n",
    "\n",
    "t.assert_equals(\"aaaaa\", find_longest(vocab_1))\n",
    "t.assert_equals(\"short\", find_longest(vocab_2))\n",
    "t.assert_equals(\"unable to be found\", find_longest(vocab_3))\n",
    "\n",
    "t.report()"
   ]
  },
  {
   "cell_type": "markdown",
   "metadata": {},
   "source": [
    "## (10) Numpy is Magic"
   ]
  },
  {
   "cell_type": "code",
   "execution_count": 70,
   "metadata": {},
   "outputs": [
    {
     "name": "stdout",
     "output_type": "stream",
     "text": [
      "Mean:\n",
      "6.333333333333333\n",
      "Standard Deviation:\n",
      "1.247219128924647\n"
     ]
    }
   ],
   "source": [
    "import numpy as np\n",
    "x = np.array([1, 3, 4,])\n",
    "y = np.array([5, 2, 4,])\n",
    "\n",
    "z = x + y\n",
    "print(\"Mean:\")\n",
    "print(z.mean())\n",
    "print(\"Standard Deviation:\")\n",
    "print(z.std())"
   ]
  },
  {
   "cell_type": "markdown",
   "metadata": {},
   "source": [
    "## (11) MatPlotLib is Weird"
   ]
  },
  {
   "cell_type": "code",
   "execution_count": 75,
   "metadata": {},
   "outputs": [
    {
     "data": {
      "text/plain": [
       "Text(0.5, 1.0, 'The Hill of Doom')"
      ]
     },
     "execution_count": 75,
     "metadata": {},
     "output_type": "execute_result"
    },
    {
     "data": {
      "image/png": "[encoded data removed]",
      "text/plain": [
       "<Figure size 432x288 with 1 Axes>"
      ]
     },
     "metadata": {
      "needs_background": "light"
     },
     "output_type": "display_data"
    }
   ],
   "source": [
    "import matplotlib.pyplot as plt\n",
    "np.random.seed(1)\n",
    "\n",
    "mu = 0\n",
    "sigma = 2\n",
    "N = 100\n",
    "\n",
    "xs = np.random.normal(mu, sigma, N)\n",
    "\n",
    "plt.hist(xs)\n",
    "plt.title(\"The Hill of Doom\")"
   ]
  },
  {
   "cell_type": "markdown",
   "metadata": {},
   "source": [
    "## (12) Reflection\n",
    "\n",
    "I have 9/10 comfortability with these exercises. I couldn't remember the name of the function to sample from a normal distribution in Numpy, so I looked that up, but other than that these exercises were very easy. I added a fun little challenge of making a bare-bones testing suite at the beginning.\n",
    "\n",
    "The hard part was trying to figure out why my tabs\n"
   ]
  }
 ],
 "metadata": {
  "kernelspec": {
   "display_name": "Python 3",
   "language": "python",
   "name": "python3"
  },
  "language_info": {
   "codemirror_mode": {
    "name": "ipython",
    "version": 3
   },
   "file_extension": ".py",
   "mimetype": "text/x-python",
   "name": "python",
   "nbconvert_exporter": "python",
   "pygments_lexer": "ipython3",
   "version": "3.8.5"
  }
 },
 "nbformat": 4,
 "nbformat_minor": 2
}
