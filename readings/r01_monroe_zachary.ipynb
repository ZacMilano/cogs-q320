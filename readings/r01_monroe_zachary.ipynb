{
 "cells": [
  {
   "cell_type": "markdown",
   "id": "established-appraisal",
   "metadata": {},
   "source": [
    "# Reading Assignment 01: Refreshing the Basics\n",
    "## Zac Monroe\n",
    "\n",
    "I'm using Python 3, and any explanations I give will reflect that."
   ]
  },
  {
   "cell_type": "markdown",
   "id": "posted-wyoming",
   "metadata": {},
   "source": [
    "# Chapter 2"
   ]
  },
  {
   "cell_type": "code",
   "execution_count": 4,
   "id": "harmful-skating",
   "metadata": {},
   "outputs": [
    {
     "name": "stdout",
     "output_type": "stream",
     "text": [
      "8.5\n",
      "8.5\n",
      "4.0\n",
      "16\n",
      ".....\n",
      "523.5987755982989\n",
      "945.4499999999999\n",
      "You'd get home at 7:01 am\n"
     ]
    }
   ],
   "source": [
    "width = 17\n",
    "height = 12.0\n",
    "delimiter = \".\"\n",
    "\n",
    "# This seemed too simple for me but I wanted to do a quick sanity check\n",
    "print(width / 2) # 8.5, float\n",
    "print(width / 2.0) # 8.5, float\n",
    "print(height / 3) # 4.0, float\n",
    "print(1 + 3 * 5) # 16, int\n",
    "print(delimiter * 5) # \".....\", str\n",
    "\n",
    "import math\n",
    "def sphere_volume(r):\n",
    "    return math.pi * 4.0/3 * r**3\n",
    "\n",
    "print(sphere_volume(5))\n",
    "\n",
    "\n",
    "def total_book_order_cost(n_copies):\n",
    "    cover_price = 24.95\n",
    "    discount_rate = 0.4\n",
    "    base_shipping = 3.0\n",
    "    marginal_shipping = 0.75\n",
    "    \n",
    "    # asume n_copies is a positive int\n",
    "    shipping_cost = base_shipping + marginal_shipping*(n_copies - 1)\n",
    "    \n",
    "    product_cost = n_copies*cover_price*(1-discount_rate)\n",
    "    \n",
    "    return product_cost + shipping_cost\n",
    "\n",
    "print(total_book_order_cost(60))\n",
    "\n",
    "\n",
    "start_hour = 6\n",
    "start_min = 52\n",
    "\n",
    "minutes_ran = 8.25 + 3*7.2 + 8.25\n",
    "end_hour = int(start_hour + (start_min + minutes_ran)//60)\n",
    "end_min = int((start_min + minutes_ran) % 60)\n",
    "\n",
    "# I know ahead of time it's not going to be more than 5 hours, so\n",
    "# it will still be AM time when they get home\n",
    "# the :02 option in formatting gives us leading zeros if needed\n",
    "print(f\"You'd get home at {end_hour}:{end_min:02} am\")"
   ]
  },
  {
   "cell_type": "markdown",
   "id": "guilty-renewal",
   "metadata": {},
   "source": [
    "# Chapter 3\n",
    "Fun fact -- in Jupyter Notebooks, if you keep the `repeat_lyrics` call at the end, run the cell, then move the call to the top, there will be no error.\n",
    "\n",
    "Moving function calls around, however, (for exercise 2), has no effect."
   ]
  },
  {
   "cell_type": "code",
   "execution_count": 2,
   "id": "technological-mortality",
   "metadata": {},
   "outputs": [
    {
     "ename": "NameError",
     "evalue": "name 'repeat_lyrics' is not defined",
     "output_type": "error",
     "traceback": [
      "\u001b[0;31m---------------------------------------------------------------------------\u001b[0m",
      "\u001b[0;31mNameError\u001b[0m                                 Traceback (most recent call last)",
      "\u001b[0;32m<ipython-input-2-8dee00c55f74>\u001b[0m in \u001b[0;36m<module>\u001b[0;34m\u001b[0m\n\u001b[0;32m----> 1\u001b[0;31m \u001b[0mrepeat_lyrics\u001b[0m\u001b[0;34m(\u001b[0m\u001b[0;34m)\u001b[0m\u001b[0;34m\u001b[0m\u001b[0;34m\u001b[0m\u001b[0m\n\u001b[0m\u001b[1;32m      2\u001b[0m \u001b[0;34m\u001b[0m\u001b[0m\n\u001b[1;32m      3\u001b[0m \u001b[0;32mdef\u001b[0m \u001b[0mprint_lyrics\u001b[0m\u001b[0;34m(\u001b[0m\u001b[0;34m)\u001b[0m\u001b[0;34m:\u001b[0m\u001b[0;34m\u001b[0m\u001b[0;34m\u001b[0m\u001b[0m\n\u001b[1;32m      4\u001b[0m     \u001b[0mprint\u001b[0m\u001b[0;34m(\u001b[0m\u001b[0;34m\"I'm a lumberjack, and I'm okay.\"\u001b[0m\u001b[0;34m)\u001b[0m\u001b[0;34m\u001b[0m\u001b[0;34m\u001b[0m\u001b[0m\n\u001b[1;32m      5\u001b[0m     \u001b[0mprint\u001b[0m\u001b[0;34m(\u001b[0m\u001b[0;34m\"I sleep all night and I work all day.\"\u001b[0m\u001b[0;34m)\u001b[0m\u001b[0;34m\u001b[0m\u001b[0;34m\u001b[0m\u001b[0m\n",
      "\u001b[0;31mNameError\u001b[0m: name 'repeat_lyrics' is not defined"
     ]
    }
   ],
   "source": [
    "repeat_lyrics()\n",
    "\n",
    "def print_lyrics():\n",
    "    print(\"I'm a lumberjack, and I'm okay.\")\n",
    "    print(\"I sleep all night and I work all day.\")\n",
    "\n",
    "def repeat_lyrics():\n",
    "    print_lyrics()\n",
    "    print_lyrics()"
   ]
  },
  {
   "cell_type": "code",
   "execution_count": 7,
   "id": "gothic-collapse",
   "metadata": {},
   "outputs": [
    {
     "data": {
      "text/plain": [
       "'                                                                 allen'"
      ]
     },
     "execution_count": 7,
     "metadata": {},
     "output_type": "execute_result"
    }
   ],
   "source": [
    "def right_justify(s):\n",
    "    \"\"\"\n",
    "    The easiest way to do this would be s.rjust(70), but\n",
    "    it seems that's not what the book wants me to do\n",
    "    \"\"\"\n",
    "    space_needed = 70 - len(s)\n",
    "    return \" \"*space_needed + s\n",
    "right_justify(\"allen\")"
   ]
  },
  {
   "cell_type": "code",
   "execution_count": 13,
   "id": "continuous-gates",
   "metadata": {},
   "outputs": [
    {
     "name": "stdout",
     "output_type": "stream",
     "text": [
      "spam\n",
      "spam\n",
      "spam\n",
      "spam\n",
      "spam\n",
      "spam\n",
      "o 3\n"
     ]
    }
   ],
   "source": [
    "def do_twice(f, val):\n",
    "    f(val)\n",
    "    f(val)\n",
    "    \n",
    "def print_twice(word):\n",
    "    print(word)\n",
    "\n",
    "do_twice(print_twice, \"spam\")\n",
    "\n",
    "def do_four(f, val):\n",
    "    do_twice(f, val)\n",
    "    do_twice(f, val)\n",
    "    \n",
    "do_four(print_twice, \"spam\")"
   ]
  },
  {
   "cell_type": "markdown",
   "id": "stylish-london",
   "metadata": {},
   "source": [
    "# Chapter 5"
   ]
  },
  {
   "cell_type": "code",
   "execution_count": 9,
   "id": "swiss-peripheral",
   "metadata": {},
   "outputs": [
    {
     "name": "stdout",
     "output_type": "stream",
     "text": [
      "No, that doesn't work.\n",
      "No, that doesn't work.\n",
      "Give me 'a': 3\n",
      "Give me 'b': 4\n",
      "Give me 'c': 5\n",
      "Give me 'n': 2\n",
      "No, that doesn't work.\n"
     ]
    }
   ],
   "source": [
    "def check_fermat(a, b, c, n):\n",
    "    lhs = a**n + b**n\n",
    "    rhs = c**n\n",
    "    if n > 2 and lhs == rhs:\n",
    "        print(\"Holy smokes, Fermat was wrong!\")\n",
    "    else:\n",
    "        print(\"No, that doesn't work.\")\n",
    "\n",
    "check_fermat(1, 5, 3, 4)\n",
    "check_fermat(5, 12, 13, 2)\n",
    "\n",
    "def user_fermat():\n",
    "    a = int(input(\"Give me 'a': \"))\n",
    "    b = int(input(\"Give me 'b': \"))\n",
    "    c = int(input(\"Give me 'c': \"))\n",
    "    n = int(input(\"Give me 'n': \"))\n",
    "    check_fermat(a, b, c, n)\n",
    "    \n",
    "user_fermat()"
   ]
  },
  {
   "cell_type": "markdown",
   "id": "environmental-ranch",
   "metadata": {},
   "source": [
    "# Chapter 6"
   ]
  },
  {
   "cell_type": "code",
   "execution_count": 12,
   "id": "lined-grace",
   "metadata": {},
   "outputs": [
    {
     "name": "stdout",
     "output_type": "stream",
     "text": [
      "True\n",
      "False\n",
      "True\n",
      "True\n",
      "True\n",
      "True\n",
      "True\n",
      "False\n"
     ]
    }
   ],
   "source": [
    "def is_palindrome(word):\n",
    "    if len(word) in [0, 1]:\n",
    "        return True\n",
    "    return word[0] == word[-1] and is_palindrome(word[1:-1])\n",
    "\n",
    "print(is_palindrome(\"racecar\"))\n",
    "print(is_palindrome(\"racecaar\"))\n",
    "print(is_palindrome(\"a\"))\n",
    "print(is_palindrome(\"\"))\n",
    "print(is_palindrome(\"wowowow\"))\n",
    "print(is_palindrome(\"wowwow\"))\n",
    "print(is_palindrome(\"aaabbbaaa\"))\n",
    "print(is_palindrome(\"aaabbbaa\"))"
   ]
  },
  {
   "cell_type": "markdown",
   "id": "proper-short",
   "metadata": {},
   "source": [
    "# Chapter 7"
   ]
  },
  {
   "cell_type": "code",
   "execution_count": 14,
   "id": "driving-knock",
   "metadata": {},
   "outputs": [
    {
     "name": "stdout",
     "output_type": "stream",
     "text": [
      "spam\n",
      "spam\n",
      "spam\n",
      "spam\n"
     ]
    }
   ],
   "source": [
    "def print_n(s, n):\n",
    "    for i in range(n):\n",
    "        print(s)\n",
    "\n",
    "print_n(\"spam\", 4)"
   ]
  },
  {
   "cell_type": "code",
   "execution_count": 19,
   "id": "disciplinary-monday",
   "metadata": {},
   "outputs": [
    {
     "name": "stdout",
     "output_type": "stream",
     "text": [
      "What are we doing today Mr. Stark? 40+2\n",
      "42\n",
      "What are we doing today Mr. Stark? ((lambda f: f(42))(lambda x: x))\n",
      "42\n",
      "What are we doing today Mr. Stark? done\n"
     ]
    },
    {
     "data": {
      "text/plain": [
       "42"
      ]
     },
     "execution_count": 19,
     "metadata": {},
     "output_type": "execute_result"
    }
   ],
   "source": [
    "def eval_loop():\n",
    "    last_result = None\n",
    "    while True:\n",
    "        code_to_run = input(\"What are we doing today Mr. Stark? \")\n",
    "        if code_to_run == \"done\":\n",
    "            return last_result\n",
    "        last_result = eval(code_to_run)\n",
    "        print(last_result)\n",
    "\n",
    "eval_loop()"
   ]
  },
  {
   "cell_type": "code",
   "execution_count": 38,
   "id": "unlikely-guarantee",
   "metadata": {},
   "outputs": [
    {
     "name": "stdout",
     "output_type": "stream",
     "text": [
      "3.141592653589793\n",
      "3.141592653589793\n"
     ]
    }
   ],
   "source": [
    "import math\n",
    "\n",
    "def estimate_pi():\n",
    "    tolerance = 1e-15\n",
    "    partial_sum = 0.0\n",
    "    k = 0\n",
    "    while True:\n",
    "        num = 2.0 * math.sqrt(2.0) * math.factorial(4*k) * (1103.0 + 26390.0*k)\n",
    "        denom = 9801.0 * (math.factorial(k)**4) * 396.0**(4.0*k)\n",
    "        next_term = num/denom\n",
    "        partial_sum += next_term\n",
    "        if next_term <= tolerance:\n",
    "            return 1.0/partial_sum\n",
    "        k += 1\n",
    "print(estimate_pi())\n",
    "print(math.pi)"
   ]
  },
  {
   "cell_type": "markdown",
   "id": "broad-bullet",
   "metadata": {},
   "source": [
    "# Chapter 8"
   ]
  },
  {
   "cell_type": "code",
   "execution_count": 40,
   "id": "enclosed-amber",
   "metadata": {},
   "outputs": [
    {
     "name": "stdout",
     "output_type": "stream",
     "text": [
      "4\n",
      "6\n",
      "-1\n",
      "-1\n"
     ]
    }
   ],
   "source": [
    "# if fruit is a string, fruit[:] is the same string -- but copied!\n",
    "\n",
    "def find(word, letter, index):\n",
    "    while index < len(word):\n",
    "        if word[index] == letter:\n",
    "            return index\n",
    "        index = index + 1\n",
    "    return -1\n",
    "\n",
    "print(find(\"cognition\", \"i\", 0))\n",
    "print(find(\"cognition\", \"i\", 5))\n",
    "print(find(\"cognition\", \"i\", 7))\n",
    "print(find(\"cognition\", \"i\", 100))"
   ]
  },
  {
   "cell_type": "code",
   "execution_count": 41,
   "id": "impaired-harbor",
   "metadata": {},
   "outputs": [
    {
     "name": "stdout",
     "output_type": "stream",
     "text": [
      "2\n",
      "2\n",
      "2\n",
      "1\n"
     ]
    }
   ],
   "source": [
    "def count(word, letter):\n",
    "    count = 0\n",
    "    for char in word:\n",
    "        if char == letter:\n",
    "            count += 1\n",
    "    return count\n",
    "print(count(\"cognition\", \"i\"))\n",
    "print(count(\"cognition\", \"o\"))\n",
    "print(count(\"cognition\", \"n\"))\n",
    "print(count(\"cognition\", \"t\"))"
   ]
  },
  {
   "cell_type": "code",
   "execution_count": 47,
   "id": "structured-madonna",
   "metadata": {},
   "outputs": [
    {
     "name": "stdout",
     "output_type": "stream",
     "text": [
      "I'm doing this to pay for college!\n",
      "Thwas was rwasky\n",
      "racecar\n",
      "ananab\n",
      "bnn\n",
      "True\n",
      "False\n",
      "True\n",
      "True\n",
      "True\n",
      "True\n",
      "True\n",
      "False\n"
     ]
    }
   ],
   "source": [
    "print(\"        I'm doing this to pay for college!     \".strip())\n",
    "# Genius computers\n",
    "print(\"This is risky\".replace(\"is\", \"was\"))\n",
    "\n",
    "print(\"racecar\"[::-1])\n",
    "print(\"banana\"[::-1])\n",
    "print(\"banana\"[0:-1:2])\n",
    "\n",
    "def is_palindrome_but_cooler(word):\n",
    "    return word == word[::-1]\n",
    "\n",
    "print(is_palindrome(\"racecar\"))\n",
    "print(is_palindrome(\"racecaar\"))\n",
    "print(is_palindrome(\"a\"))\n",
    "print(is_palindrome(\"\"))\n",
    "print(is_palindrome(\"wowowow\"))\n",
    "print(is_palindrome(\"wowwow\"))\n",
    "print(is_palindrome(\"aaabbbaaa\"))\n",
    "print(is_palindrome(\"aaabbbaa\"))"
   ]
  },
  {
   "cell_type": "markdown",
   "id": "professional-armenia",
   "metadata": {},
   "source": [
    "# Chapter 10"
   ]
  },
  {
   "cell_type": "code",
   "execution_count": 58,
   "id": "floating-chess",
   "metadata": {},
   "outputs": [
    {
     "name": "stdout",
     "output_type": "stream",
     "text": [
      "1\n",
      "10\n",
      "6\n"
     ]
    }
   ],
   "source": [
    "def nested_sum(ints):\n",
    "    if ints == []: return 0\n",
    "    first = ints[0]\n",
    "    rest = ints[1:]\n",
    "    \n",
    "    rest_sum = nested_sum(rest)\n",
    "    if type(first) is list:\n",
    "        return nested_sum(first) + rest_sum\n",
    "    return first + rest_sum\n",
    "\n",
    "print(nested_sum([1]))\n",
    "print(nested_sum([1, [2, [3, [4, []]]]]))\n",
    "print(nested_sum([[[[[[1]]], [1, 1]]], [1, [[[[[1]]], 1]]]]))"
   ]
  },
  {
   "cell_type": "code",
   "execution_count": 66,
   "id": "dimensional-analyst",
   "metadata": {},
   "outputs": [
    {
     "name": "stdout",
     "output_type": "stream",
     "text": [
      "['A', 'B']\n",
      "['A', 'B']\n",
      "[[], ['A'], 'B']\n",
      "[[[[['A'], 'C'], 'D'], 'E'], ['F', ['G', ['H', ['B']]]]]\n"
     ]
    }
   ],
   "source": [
    "def capitalize_all(t):\n",
    "    res = []\n",
    "    for s in t:\n",
    "        res.append(s.capitalize())\n",
    "    return res\n",
    "\n",
    "# The way I'm doing this is just structural recursion, no different from nested_sum\n",
    "def capitalize_nested(t):\n",
    "    if t == []: return t\n",
    "    first = t[0]\n",
    "    rest = t[1:]\n",
    "    \n",
    "    rest_cap = capitalize_nested(rest)\n",
    "    if type(first) is list:\n",
    "        return [capitalize_nested(first)] + rest_cap\n",
    "    return [first.capitalize()] + rest_cap\n",
    "\n",
    "print(capitalize_nested([\"a\", \"B\"]))\n",
    "print(capitalize_nested([\"a\", \"b\"]))\n",
    "print(capitalize_nested([[], [\"a\"], \"B\"]))\n",
    "print(capitalize_nested([[[[[\"a\"], \"c\"], \"d\"], \"e\"], [\"f\", [\"g\", [\"h\", [\"B\"]]]]]))"
   ]
  },
  {
   "cell_type": "code",
   "execution_count": 74,
   "id": "recovered-charity",
   "metadata": {},
   "outputs": [
    {
     "name": "stdout",
     "output_type": "stream",
     "text": [
      "True\n",
      "True\n",
      "True\n",
      "False\n",
      "False\n",
      "True\n",
      "True\n"
     ]
    }
   ],
   "source": [
    "# Going for efficiency, O(n), not simplicity :)\n",
    "def is_anagram(a, b):\n",
    "    # This function will consider whitespace/special symbols to be letters\n",
    "    if len(a) != len(b):\n",
    "        return False\n",
    "    a_count = dict()\n",
    "    b_count = dict()\n",
    "    for i in range(len(a)):\n",
    "        # This could be simplified with the Counter class\n",
    "        ai = a[i]\n",
    "        bi = b[i]\n",
    "        if ai not in a_count.keys():\n",
    "            a_count[ai] = 1\n",
    "        else:\n",
    "            a_count[ai] += 1\n",
    "        if bi not in b_count.keys():\n",
    "            b_count[bi] = 1\n",
    "        else:\n",
    "            b_count[bi] += 1\n",
    "            \n",
    "    a_keys = a_count.keys()\n",
    "    b_keys = b_count.keys()\n",
    "    # set(a_keys).union(set(b_keys)) essentially gives us a unique set of\n",
    "    # characters that are in either a or b\n",
    "    for key in set(a_keys).union(set(b_keys)):\n",
    "        if key not in a_keys or key not in b_keys:\n",
    "            return False\n",
    "        # Check that we have the same amount of each character\n",
    "        if a_count[key] != b_count[key]:\n",
    "            return False\n",
    "    return True\n",
    "\n",
    "print(is_anagram(\"a\", \"a\"))\n",
    "print(is_anagram(\"\", \"\"))\n",
    "print(is_anagram(\"bbbbb\", \"bbbbb\"))\n",
    "print(is_anagram(\"bbb\", \"b\"))\n",
    "print(is_anagram(\"b\", \"a\"))\n",
    "print(is_anagram(\"dog\", \"god\"))\n",
    "# Added space at beginning just cause\n",
    "print(is_anagram(\" parliament\", \"partial men\"))"
   ]
  },
  {
   "cell_type": "code",
   "execution_count": 68,
   "id": "varying-stand",
   "metadata": {},
   "outputs": [
    {
     "data": {
      "text/plain": [
       "{1, 2, 3, 5, 54}"
      ]
     },
     "execution_count": 68,
     "metadata": {},
     "output_type": "execute_result"
    }
   ],
   "source": [
    "x = [1,2,5,3,2,54]\n",
    "set(x)"
   ]
  }
 ],
 "metadata": {
  "kernelspec": {
   "display_name": "Python 3",
   "language": "python",
   "name": "python3"
  },
  "language_info": {
   "codemirror_mode": {
    "name": "ipython",
    "version": 3
   },
   "file_extension": ".py",
   "mimetype": "text/x-python",
   "name": "python",
   "nbconvert_exporter": "python",
   "pygments_lexer": "ipython3",
   "version": "3.8.5"
  }
 },
 "nbformat": 4,
 "nbformat_minor": 5
}
