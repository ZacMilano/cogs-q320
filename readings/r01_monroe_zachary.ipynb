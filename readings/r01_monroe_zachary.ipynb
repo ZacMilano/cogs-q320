{
 "cells": [
  {
   "cell_type": "markdown",
   "id": "established-appraisal",
   "metadata": {},
   "source": [
    "# Reading Assignment 01: Refreshing the Basics\n",
    "## Zac Monroe\n",
    "\n",
    "I'm using Python 3, and any explanations I give will reflect that."
   ]
  },
  {
   "cell_type": "markdown",
   "id": "posted-wyoming",
   "metadata": {},
   "source": [
    "# Chapter 2"
   ]
  },
  {
   "cell_type": "code",
   "execution_count": 4,
   "id": "harmful-skating",
   "metadata": {},
   "outputs": [
    {
     "name": "stdout",
     "output_type": "stream",
     "text": [
      "8.5\n",
      "8.5\n",
      "4.0\n",
      "16\n",
      ".....\n",
      "523.5987755982989\n",
      "945.4499999999999\n",
      "You'd get home at 7:01 am\n"
     ]
    }
   ],
   "source": [
    "width = 17\n",
    "height = 12.0\n",
    "delimiter = \".\"\n",
    "\n",
    "# This seemed too simple for me but I wanted to do a quick sanity check\n",
    "print(width / 2) # 8.5, float\n",
    "print(width / 2.0) # 8.5, float\n",
    "print(height / 3) # 4.0, float\n",
    "print(1 + 3 * 5) # 16, int\n",
    "print(delimiter * 5) # \".....\", str\n",
    "\n",
    "import math\n",
    "def sphere_volume(r):\n",
    "    return math.pi * 4.0/3 * r**3\n",
    "\n",
    "print(sphere_volume(5))\n",
    "\n",
    "\n",
    "def total_book_order_cost(n_copies):\n",
    "    cover_price = 24.95\n",
    "    discount_rate = 0.4\n",
    "    base_shipping = 3.0\n",
    "    marginal_shipping = 0.75\n",
    "    \n",
    "    # asume n_copies is a positive int\n",
    "    shipping_cost = base_shipping + marginal_shipping*(n_copies - 1)\n",
    "    \n",
    "    product_cost = n_copies*cover_price*(1-discount_rate)\n",
    "    \n",
    "    return product_cost + shipping_cost\n",
    "\n",
    "print(total_book_order_cost(60))\n",
    "\n",
    "\n",
    "start_hour = 6\n",
    "start_min = 52\n",
    "\n",
    "minutes_ran = 8.25 + 3*7.2 + 8.25\n",
    "end_hour = int(start_hour + (start_min + minutes_ran)//60)\n",
    "end_min = int((start_min + minutes_ran) % 60)\n",
    "\n",
    "# I know ahead of time it's not going to be more than 5 hours, so\n",
    "# it will still be AM time when they get home\n",
    "# the :02 option in formatting gives us leading zeros if needed\n",
    "print(f\"You'd get home at {end_hour}:{end_min:02} am\")"
   ]
  },
  {
   "cell_type": "markdown",
   "id": "guilty-renewal",
   "metadata": {},
   "source": [
    "# Chapter 3\n",
    "Fun fact -- in Jupyter Notebooks, if you keep the `repeat_lyrics` call at the end, run the cell, then move the call to the top, there will be no error.\n",
    "\n",
    "Moving function calls around, however, (for exercise 2), has no effect."
   ]
  },
  {
   "cell_type": "code",
   "execution_count": 2,
   "id": "technological-mortality",
   "metadata": {},
   "outputs": [
    {
     "ename": "NameError",
     "evalue": "name 'repeat_lyrics' is not defined",
     "output_type": "error",
     "traceback": [
      "\u001b[0;31m---------------------------------------------------------------------------\u001b[0m",
      "\u001b[0;31mNameError\u001b[0m                                 Traceback (most recent call last)",
      "\u001b[0;32m<ipython-input-2-8dee00c55f74>\u001b[0m in \u001b[0;36m<module>\u001b[0;34m\u001b[0m\n\u001b[0;32m----> 1\u001b[0;31m \u001b[0mrepeat_lyrics\u001b[0m\u001b[0;34m(\u001b[0m\u001b[0;34m)\u001b[0m\u001b[0;34m\u001b[0m\u001b[0;34m\u001b[0m\u001b[0m\n\u001b[0m\u001b[1;32m      2\u001b[0m \u001b[0;34m\u001b[0m\u001b[0m\n\u001b[1;32m      3\u001b[0m \u001b[0;32mdef\u001b[0m \u001b[0mprint_lyrics\u001b[0m\u001b[0;34m(\u001b[0m\u001b[0;34m)\u001b[0m\u001b[0;34m:\u001b[0m\u001b[0;34m\u001b[0m\u001b[0;34m\u001b[0m\u001b[0m\n\u001b[1;32m      4\u001b[0m     \u001b[0mprint\u001b[0m\u001b[0;34m(\u001b[0m\u001b[0;34m\"I'm a lumberjack, and I'm okay.\"\u001b[0m\u001b[0;34m)\u001b[0m\u001b[0;34m\u001b[0m\u001b[0;34m\u001b[0m\u001b[0m\n\u001b[1;32m      5\u001b[0m     \u001b[0mprint\u001b[0m\u001b[0;34m(\u001b[0m\u001b[0;34m\"I sleep all night and I work all day.\"\u001b[0m\u001b[0;34m)\u001b[0m\u001b[0;34m\u001b[0m\u001b[0;34m\u001b[0m\u001b[0m\n",
      "\u001b[0;31mNameError\u001b[0m: name 'repeat_lyrics' is not defined"
     ]
    }
   ],
   "source": [
    "repeat_lyrics()\n",
    "\n",
    "def print_lyrics():\n",
    "    print(\"I'm a lumberjack, and I'm okay.\")\n",
    "    print(\"I sleep all night and I work all day.\")\n",
    "\n",
    "def repeat_lyrics():\n",
    "    print_lyrics()\n",
    "    print_lyrics()"
   ]
  },
  {
   "cell_type": "code",
   "execution_count": 7,
   "id": "gothic-collapse",
   "metadata": {},
   "outputs": [
    {
     "data": {
      "text/plain": [
       "'                                                                 allen'"
      ]
     },
     "execution_count": 7,
     "metadata": {},
     "output_type": "execute_result"
    }
   ],
   "source": [
    "def right_justify(s):\n",
    "    \"\"\"\n",
    "    The easiest way to do this would be s.rjust(70), but\n",
    "    it seems that's not what the book wants me to do\n",
    "    \"\"\"\n",
    "    space_needed = 70 - len(s)\n",
    "    return \" \"*space_needed + s\n",
    "right_justify(\"allen\")"
   ]
  },
  {
   "cell_type": "code",
   "execution_count": 13,
   "id": "continuous-gates",
   "metadata": {},
   "outputs": [
    {
     "name": "stdout",
     "output_type": "stream",
     "text": [
      "spam\n",
      "spam\n",
      "spam\n",
      "spam\n",
      "spam\n",
      "spam\n",
      "o 3\n"
     ]
    }
   ],
   "source": [
    "def do_twice(f, val):\n",
    "    f(val)\n",
    "    f(val)\n",
    "    \n",
    "def print_twice(word):\n",
    "    print(word)\n",
    "\n",
    "do_twice(print_twice, \"spam\")\n",
    "\n",
    "def do_four(f, val):\n",
    "    do_twice(f, val)\n",
    "    do_twice(f, val)\n",
    "    \n",
    "do_four(print_twice, \"spam\")"
   ]
  },
  {
   "cell_type": "markdown",
   "id": "stylish-london",
   "metadata": {},
   "source": [
    "# Chapter 5"
   ]
  },
  {
   "cell_type": "code",
   "execution_count": 1,
   "id": "swiss-peripheral",
   "metadata": {},
   "outputs": [
    {
     "name": "stdout",
     "output_type": "stream",
     "text": [
      "<swampy.TurtleWorld.Turtle object at 0x108ed5970>\n"
     ]
    }
   ],
   "source": [
    "from swampy.TurtleWorld import *\n",
    "\n",
    "world = TurtleWorld()\n",
    "bob = Turtle()\n",
    "print(bob)\n",
    "\n",
    "wait_for_user()"
   ]
  },
  {
   "cell_type": "markdown",
   "id": "environmental-ranch",
   "metadata": {},
   "source": [
    "# Chapter 6"
   ]
  },
  {
   "cell_type": "code",
   "execution_count": null,
   "id": "lined-grace",
   "metadata": {},
   "outputs": [],
   "source": []
  },
  {
   "cell_type": "markdown",
   "id": "proper-short",
   "metadata": {},
   "source": [
    "# Chapter 7"
   ]
  },
  {
   "cell_type": "code",
   "execution_count": null,
   "id": "driving-knock",
   "metadata": {},
   "outputs": [],
   "source": []
  },
  {
   "cell_type": "markdown",
   "id": "printable-constitution",
   "metadata": {},
   "source": [
    "# Chapter 8"
   ]
  },
  {
   "cell_type": "code",
   "execution_count": null,
   "id": "disciplinary-monday",
   "metadata": {},
   "outputs": [],
   "source": []
  },
  {
   "cell_type": "markdown",
   "id": "professional-armenia",
   "metadata": {},
   "source": [
    "# Chapter 10"
   ]
  },
  {
   "cell_type": "code",
   "execution_count": null,
   "id": "floating-chess",
   "metadata": {},
   "outputs": [],
   "source": []
  }
 ],
 "metadata": {
  "kernelspec": {
   "display_name": "Python 3",
   "language": "python",
   "name": "python3"
  },
  "language_info": {
   "codemirror_mode": {
    "name": "ipython",
    "version": 3
   },
   "file_extension": ".py",
   "mimetype": "text/x-python",
   "name": "python",
   "nbconvert_exporter": "python",
   "pygments_lexer": "ipython3",
   "version": "3.8.5"
  }
 },
 "nbformat": 4,
 "nbformat_minor": 5
}
