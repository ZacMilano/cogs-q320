{
 "cells": [
  {
   "cell_type": "markdown",
   "id": "scheduled-master",
   "metadata": {},
   "source": [
    "# NumPy Tutorial Work"
   ]
  },
  {
   "cell_type": "code",
   "execution_count": 6,
   "id": "broke-attachment",
   "metadata": {},
   "outputs": [
    {
     "name": "stdout",
     "output_type": "stream",
     "text": [
      "[[ 0  1  2  3  4]\n",
      " [ 5  6  7  8  9]\n",
      " [10 11 12 13 14]]\n",
      "2\n",
      "[3 5 1]\n"
     ]
    }
   ],
   "source": [
    "import numpy as np\n",
    "a = np.arange(15).reshape(3,5)\n",
    "print(a)\n",
    "print(a.ndim)\n",
    "\n",
    "b = np.array([3, 5, 1])\n",
    "print(b)"
   ]
  },
  {
   "cell_type": "code",
   "execution_count": 14,
   "id": "periodic-palestine",
   "metadata": {},
   "outputs": [
    {
     "name": "stdout",
     "output_type": "stream",
     "text": [
      "int64\n",
      "float64\n",
      "[[0.  2.  5. ]\n",
      " [1.  1.2 1.5]]\n",
      "float64\n",
      "[[0. +0.j 2. +0.j 5. +0.j]\n",
      " [1. +0.j 1.2+0.j 1.5+0.j]]\n"
     ]
    }
   ],
   "source": [
    "a = np.array([0, 2, 5])\n",
    "print(a.dtype)\n",
    "b = np.array([1.0, 1.2, 1.5])\n",
    "print(b.dtype)\n",
    "\n",
    "c = np.array([a, b])\n",
    "print(c)\n",
    "print(c.dtype)\n",
    "\n",
    "d = np.array(c, dtype=complex)\n",
    "print(d)"
   ]
  },
  {
   "cell_type": "code",
   "execution_count": 20,
   "id": "atlantic-belarus",
   "metadata": {},
   "outputs": [
    {
     "name": "stdout",
     "output_type": "stream",
     "text": [
      "[[0. 0. 0. 0. 0.]\n",
      " [0. 0. 0. 0. 0.]\n",
      " [0. 0. 0. 0. 0.]\n",
      " [0. 0. 0. 0. 0.]]\n",
      "[[[0 0 0 0 0]\n",
      "  [0 0 0 0 0]]\n",
      "\n",
      " [[0 0 0 0 0]\n",
      "  [0 0 0 0 0]]\n",
      "\n",
      " [[0 0 0 0 0]\n",
      "  [0 0 0 0 0]]]\n",
      "[[0. 0. 0.]\n",
      " [0. 0. 0.]]\n"
     ]
    }
   ],
   "source": [
    "print(np.zeros((4,5)))\n",
    "print(np.zeros((3,2,5), dtype=np.int16))\n",
    "print(np.empty((2,3)))"
   ]
  },
  {
   "cell_type": "code",
   "execution_count": 22,
   "id": "lovely-debate",
   "metadata": {},
   "outputs": [
    {
     "name": "stdout",
     "output_type": "stream",
     "text": [
      "[0.  0.3 0.6 0.9 1.2 1.5 1.8]\n",
      "[0.   0.25 0.5  0.75 1.   1.25 1.5  1.75 2.  ]\n"
     ]
    }
   ],
   "source": [
    "# 0.3 gap between numbers\n",
    "print(np.arange(0, 2, 0.3))\n",
    "# 9 numbers; preferable\n",
    "print(np.linspace(0, 2, 9))"
   ]
  },
  {
   "cell_type": "code",
   "execution_count": 31,
   "id": "chronic-sweet",
   "metadata": {},
   "outputs": [
    {
     "name": "stdout",
     "output_type": "stream",
     "text": [
      "[0.  2.  5.  1.  1.2 1.5 0.  2.  5.  1.  1.2 1.5]\n",
      "[[[0.  2. ]\n",
      "  [5.  1. ]\n",
      "  [1.2 1.5]]\n",
      "\n",
      " [[0.  2. ]\n",
      "  [5.  1. ]\n",
      "  [1.2 1.5]]]\n",
      "[[0.  2.  5.  1. ]\n",
      " [1.2 1.5 0.  2. ]\n",
      " [5.  1.  1.2 1.5]]\n"
     ]
    }
   ],
   "source": [
    "x = np.array([*a, *b, *a, *b])\n",
    "print(x)\n",
    "x = x.reshape(2,3,2)\n",
    "print(x)\n",
    "x = x.reshape(3,4)\n",
    "print(x)"
   ]
  },
  {
   "cell_type": "code",
   "execution_count": 34,
   "id": "necessary-sheep",
   "metadata": {},
   "outputs": [
    {
     "name": "stdout",
     "output_type": "stream",
     "text": [
      "[20 29 38 47]\n",
      "[0 1 4 9]\n"
     ]
    },
    {
     "data": {
      "text/plain": [
       "array([ True,  True, False, False])"
      ]
     },
     "execution_count": 34,
     "metadata": {},
     "output_type": "execute_result"
    }
   ],
   "source": [
    "a = np.array([20,30,40,50])\n",
    "b = np.arange(4)\n",
    "\n",
    "c = a - b\n",
    "print(c)\n",
    "print(b**2)\n",
    "10*np.cos(b)\n",
    "c<35"
   ]
  },
  {
   "cell_type": "code",
   "execution_count": 35,
   "id": "operating-dream",
   "metadata": {},
   "outputs": [
    {
     "name": "stdout",
     "output_type": "stream",
     "text": [
      "[[2 0]\n",
      " [0 4]]\n",
      "[[5 4]\n",
      " [3 4]]\n",
      "[[5 4]\n",
      " [3 4]]\n"
     ]
    }
   ],
   "source": [
    "A = np.array([[1,1],[0,1]])\n",
    "B = np.array([[2,0],[3,4]])\n",
    "print(A * B)\n",
    "print(A @ B)\n",
    "print(A.dot(B))"
   ]
  },
  {
   "cell_type": "code",
   "execution_count": 42,
   "id": "settled-sustainability",
   "metadata": {},
   "outputs": [
    {
     "name": "stdout",
     "output_type": "stream",
     "text": [
      "[[0.42844857 0.09648259 0.36830917]\n",
      " [0.83556505 0.25890951 0.40817192]]\n",
      "2.3958868103211652\n",
      "0.09648258716480596\n",
      "The truth value of an array with more than one element is ambiguous. Use a.any() or a.all()\n",
      "0.8355650477510541\n"
     ]
    }
   ],
   "source": [
    "a = np.random.random((2,3))\n",
    "print(a)\n",
    "print(a.sum())\n",
    "print(a.min())\n",
    "try:\n",
    "    print(min(a))\n",
    "except ValueError as e:\n",
    "    print(e)\n",
    "print(a.max())"
   ]
  },
  {
   "cell_type": "code",
   "execution_count": 43,
   "id": "handled-finland",
   "metadata": {},
   "outputs": [
    {
     "name": "stdout",
     "output_type": "stream",
     "text": [
      "[[ 0  1  2  3]\n",
      " [ 4  5  6  7]\n",
      " [ 8  9 10 11]]\n",
      "[12 15 18 21]\n",
      "[0 4 8]\n",
      "[[ 0  1  3  6]\n",
      " [ 4  9 15 22]\n",
      " [ 8 17 27 38]]\n"
     ]
    }
   ],
   "source": [
    "b = np.arange(12).reshape(3,4)\n",
    "print(b)\n",
    "print(b.sum(axis=0))\n",
    "print(b.min(axis=1))\n",
    "print(b.cumsum(axis=1))"
   ]
  },
  {
   "cell_type": "code",
   "execution_count": 53,
   "id": "divine-graph",
   "metadata": {},
   "outputs": [
    {
     "name": "stdout",
     "output_type": "stream",
     "text": [
      "[0 1 2]\n",
      "[1.         2.71828183 7.3890561 ]\n",
      "[0.         1.         1.41421356]\n",
      "[0]\n",
      "[[  0  20  40  60  80]\n",
      " [ 20  40  60  80 100]\n",
      " [ 40  60  80 100 120]\n",
      " [ 60  80 100 120 140]]\n",
      "100\n",
      "[ 40  60  80 100 120]\n",
      "[ 40  60  80 100 120]\n",
      "[ 60  80 100 120 140]\n",
      "[ 60  80 100 120 140]\n",
      "[ 40  60  80 100 120]\n"
     ]
    }
   ],
   "source": [
    "b = np.arange(3)\n",
    "print(b)\n",
    "print(np.exp(b))\n",
    "print(np.sqrt(b))\n",
    "\n",
    "print(b[:int(len(b)/2)])\n",
    "\n",
    "def f(x,y):\n",
    "    return 20 * (x+y)\n",
    "\n",
    "b = np.fromfunction(f, (4,5), dtype=int)\n",
    "print(b)\n",
    "print(b[2,3])\n",
    "print(b[2])\n",
    "print(b[2,:])\n",
    "print(b[-1])\n",
    "print(b[-1,:])\n",
    "print(b[2,...])"
   ]
  },
  {
   "cell_type": "code",
   "execution_count": 57,
   "id": "speaking-genetics",
   "metadata": {
    "scrolled": true
   },
   "outputs": [
    {
     "name": "stdout",
     "output_type": "stream",
     "text": [
      "[[0. 0. 0. 0.]\n",
      " [0. 0. 0. 0.]\n",
      " [0. 0. 0. 0.]]\n",
      "[[0. 0. 0.]\n",
      " [0. 0. 0.]\n",
      " [0. 0. 0.]\n",
      " [0. 0. 0.]]\n",
      "[0. 0. 0. 0. 0. 0. 0. 0. 0. 0. 0. 0.]\n"
     ]
    }
   ],
   "source": [
    "A = np.zeros((3,4))\n",
    "print(A)\n",
    "print(A.T)\n",
    "print(A.ravel())\n",
    "\n",
    "# reshape returns new array, resize modifies inplace\n",
    "# dimension length of -1 auto adjusts"
   ]
  },
  {
   "cell_type": "code",
   "execution_count": 63,
   "id": "prostate-channel",
   "metadata": {},
   "outputs": [
    {
     "name": "stdout",
     "output_type": "stream",
     "text": [
      "[[ 0.  0.]\n",
      " [ 0.  0.]\n",
      " [ 0. 20.]\n",
      " [20. 40.]]\n",
      "[[ 0.  0.  0. 20.]\n",
      " [ 0.  0. 20. 40.]]\n",
      "[[ 0.  0.  0. 20.]\n",
      " [ 0.  0. 20. 40.]]\n",
      "[[[ 0 20]]\n",
      "\n",
      " [[20 40]]]\n"
     ]
    },
    {
     "data": {
      "text/plain": [
       "[array([[ 0],\n",
       "        [20]]),\n",
       " array([[20],\n",
       "        [40]])]"
      ]
     },
     "execution_count": 63,
     "metadata": {},
     "output_type": "execute_result"
    }
   ],
   "source": [
    "a = np.zeros((2,2))\n",
    "b = np.fromfunction(f, (2,2), dtype=int)\n",
    "print(np.vstack((a,b)))\n",
    "print(np.hstack((a,b)))\n",
    "\n",
    "print(np.column_stack((a,b)))\n",
    "print(b[:,np.newaxis])\n",
    "\n",
    "np.hsplit(b,2)"
   ]
  },
  {
   "cell_type": "code",
   "execution_count": 65,
   "id": "explicit-coordinate",
   "metadata": {},
   "outputs": [
    {
     "name": "stdout",
     "output_type": "stream",
     "text": [
      "[[ True  True]\n",
      " [ True  True]]\n",
      "False\n"
     ]
    }
   ],
   "source": [
    "c = b.copy()\n",
    "print(b == c)\n",
    "print(b is c)"
   ]
  },
  {
   "cell_type": "code",
   "execution_count": 66,
   "id": "tired-webcam",
   "metadata": {},
   "outputs": [],
   "source": [
    "a = np.arange(int(1e8))\n",
    "# this is good\n",
    "b = a[:100].copy()\n",
    "del a\n",
    "\n",
    "# arrays as indices are weird\n",
    "# ix_ is useful for combinatorics"
   ]
  },
  {
   "cell_type": "code",
   "execution_count": 72,
   "id": "developmental-roman",
   "metadata": {},
   "outputs": [
    {
     "name": "stdout",
     "output_type": "stream",
     "text": [
      "[[  0  20  40  60  80]\n",
      " [ 20  40  60  80 100]\n",
      " [ 40  60  80 100 120]\n",
      " [ 60  80 100 120 140]\n",
      " [ 80 100 120 140 160]]\n",
      "[[ True  True  True  True  True]\n",
      " [ True  True  True  True  True]\n",
      " [ True  True  True  True False]\n",
      " [ True  True  True False False]\n",
      " [ True  True False False False]]\n",
      "[  0  20  40  60  80  20  40  60  80 100  40  60  80 100  60  80 100  80\n",
      " 100]\n",
      "[[  0   0   0   0   0]\n",
      " [  0   0   0   0   0]\n",
      " [  0   0   0   0 120]\n",
      " [  0   0   0 120 140]\n",
      " [  0   0 120 140 160]]\n"
     ]
    }
   ],
   "source": [
    "b = np.fromfunction(f, (5,5), dtype=int)\n",
    "print(b)\n",
    "a = b <= 100\n",
    "print(a)\n",
    "print(b[a])\n",
    "b[a] = 0\n",
    "print(b)"
   ]
  }
 ],
 "metadata": {
  "kernelspec": {
   "display_name": "Python 3",
   "language": "python",
   "name": "python3"
  },
  "language_info": {
   "codemirror_mode": {
    "name": "ipython",
    "version": 3
   },
   "file_extension": ".py",
   "mimetype": "text/x-python",
   "name": "python",
   "nbconvert_exporter": "python",
   "pygments_lexer": "ipython3",
   "version": "3.9.1"
  }
 },
 "nbformat": 4,
 "nbformat_minor": 5
}
