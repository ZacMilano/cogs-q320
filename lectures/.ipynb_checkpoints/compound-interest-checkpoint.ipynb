{
 "cells": [
  {
   "cell_type": "code",
   "execution_count": 5,
   "id": "earned-rendering",
   "metadata": {},
   "outputs": [
    {
     "name": "stdout",
     "output_type": "stream",
     "text": [
      "With no fees it's $976,224, with some fees it's $499,241.\n",
      "Bank takes about 51.14%!\n"
     ]
    }
   ],
   "source": [
    "def savingsBalance(depositAmount, interestRate, feeRate, yearsElapsed):\n",
    "    \"\"\"\n",
    "    depositAmount : Int; deposit amount per month, so 12*depositAmount per year added.\n",
    "    interestRate : Float; percentage gained per year /100. So 7% yeild is 0.07.\n",
    "    feeRate : Float; similar to interest rate, but represents fee rate of bank\n",
    "              (by which money is lost)\n",
    "    yearsElapsed : Int\n",
    "    \"\"\"\n",
    "    # TODO:\n",
    "    # Keep balance history\n",
    "    # Make pie chart of money deposited, interest earned, money paid to ban\n",
    "    annualDeposit = 12*depositAmount\n",
    "    balance = annualDeposit\n",
    "    # First year already in account\n",
    "    for _ in range(yearsElapsed-1):\n",
    "        balance *= (1 + interestRate - feeRate)\n",
    "        balance += annualDeposit\n",
    "    return balance\n",
    "\n",
    "noFees = int(savingsBalance(100, 0.07, 0.0, 60))\n",
    "withFees = int(savingsBalance(100, 0.07, 0.016, 60))\n",
    "\n",
    "print(f\"With no fees it's ${noFees:,}, with some fees it's ${withFees:,}.\")\n",
    "print(f\"Bank takes about {100*(1 - (noFees - withFees)/noFees):.2f}%!\")"
   ]
  }
 ],
 "metadata": {
  "kernelspec": {
   "display_name": "Python 3",
   "language": "python",
   "name": "python3"
  },
  "language_info": {
   "codemirror_mode": {
    "name": "ipython",
    "version": 3
   },
   "file_extension": ".py",
   "mimetype": "text/x-python",
   "name": "python",
   "nbconvert_exporter": "python",
   "pygments_lexer": "ipython3",
   "version": "3.9.1"
  }
 },
 "nbformat": 4,
 "nbformat_minor": 5
}
